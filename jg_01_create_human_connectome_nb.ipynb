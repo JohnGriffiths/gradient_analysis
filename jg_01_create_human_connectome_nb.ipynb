{
 "cells": [
  {
   "cell_type": "markdown",
   "metadata": {},
   "source": [
    "## Modified python code"
   ]
  },
  {
   "cell_type": "code",
   "execution_count": null,
   "metadata": {
    "collapsed": true
   },
   "outputs": [],
   "source": [
    "# %load jg_01_create_human_connectome.py\n",
    "\n",
    "\n",
    "# In[1]:\n",
    "\n",
    "\n",
    "# Download HCP 820 dense connectome:\n",
    "# HCP_S900_820_rfMRI_MSMAll_groupPCA_d4500ROW_zcorr.dconn.nii\n",
    "\n",
    "\n",
    "# In[ ]:"
   ]
  },
  {
   "cell_type": "code",
   "execution_count": 2,
   "metadata": {},
   "outputs": [
    {
     "name": "stderr",
     "output_type": "stream",
     "text": [
      "/home/hpc3230/Software/anaconda2/envs/tvb/lib/python2.7/site-packages/nibabel/cifti2/parse_cifti2.py:24: FutureWarning: We no longer carry a copy of the 'six' package in nibabel; Please import the 'six' package directly\n",
      "  from ..externals.six import BytesIO\n"
     ]
    }
   ],
   "source": [
    "import numpy as np\n",
    "import nibabel as nib # git clone --branch enh/cifti2 https://github.com/satra/nibabel.git\n",
    "from sklearn.metrics import pairwise_distances\n",
    "\n",
    "# Load data and Fisher's z-to-r transform\n",
    "#\n",
    "f = '/scratch/hpc3230/Data/connectomeDB/HCP_S900_820_rfMRI_MSMAll_groupPCA_d4500ROW_zcorr.dconn.nii'\n",
    "\n",
    "#dcon = np.tanh(nib.load('HCP_S900_820_rfMRI_MSMAll_groupPCA_d4500ROW_zcorr.dconn.nii').data)\n",
    "\n",
    "dcon = np.tanh(np.squeeze(nib.load(f).get_data()))\n",
    "\n",
    "# Get number of nodes\n",
    "N = dcon.shape[0]\n",
    "\n",
    "# Generate percentile thresholds for 90th percentile\n",
    "perc = np.array([np.percentile(x, 90) for x in dcon])\n",
    "\n",
    "# Threshold each row of the matrix by setting values below 90th percentile to 0\n",
    "for i in range(dcon.shape[0]):\n",
    "  print \"Row %d\" % i\n",
    "  dcon[i, dcon[i,:] < perc[i]] = 0    \n",
    "\n",
    "# In[ ]:\n",
    "\n",
    "\n",
    "# Check for minimum value\n",
    "print \"Minimum value is %f\" % dcon.min()\n",
    "\n",
    "# The negative values are very small, but we need to know how many nodes have negative values\n",
    "# Count negative values per row\n",
    "neg_values = np.array([sum(dcon[i,:] < 0) for i in range(N)])\n",
    "print \"Negative values occur in %d rows\" % sum(neg_values > 0)\n",
    "\n",
    "# Since there are only 23 vertices with total of 5000 very small negative values, we set these to zero\n",
    "dcon[dcon < 0] = 0\n",
    "\n",
    "\n",
    "# In[ ]:"
   ]
  },
  {
   "cell_type": "code",
   "execution_count": null,
   "metadata": {
    "collapsed": true
   },
   "outputs": [],
   "source": [
    "# Now we are dealing with sparse vectors. Cosine similarity is used as affinity metric\n",
    "aff = 1 - pairwise_distances(dcon, metric = 'cosine')\n",
    "\n",
    "\n",
    "# In[ ]:"
   ]
  },
  {
   "cell_type": "code",
   "execution_count": null,
   "metadata": {
    "collapsed": true
   },
   "outputs": [],
   "source": [
    "# Save affinity matrix\n",
    "np.save('gradient_data/conn_matrices/cosine_affinity.npy', aff)"
   ]
  },
  {
   "cell_type": "code",
   "execution_count": 5,
   "metadata": {},
   "outputs": [
    {
     "ename": "NameError",
     "evalue": "name 'aff' is not defined",
     "output_type": "error",
     "traceback": [
      "\u001b[0;31m---------------------------------------------------------------------------\u001b[0m",
      "\u001b[0;31mNameError\u001b[0m                                 Traceback (most recent call last)",
      "\u001b[0;32m<ipython-input-5-cc855fac56ff>\u001b[0m in \u001b[0;36m<module>\u001b[0;34m()\u001b[0m\n\u001b[0;32m----> 1\u001b[0;31m \u001b[0maff\u001b[0m\u001b[0;34m.\u001b[0m\u001b[0mshape\u001b[0m\u001b[0;34m\u001b[0m\u001b[0m\n\u001b[0m",
      "\u001b[0;31mNameError\u001b[0m: name 'aff' is not defined"
     ]
    }
   ],
   "source": [
    "aff.shape"
   ]
  },
  {
   "cell_type": "code",
   "execution_count": null,
   "metadata": {
    "collapsed": true
   },
   "outputs": [],
   "source": []
  },
  {
   "cell_type": "markdown",
   "metadata": {},
   "source": [
    "## Original Noteboook"
   ]
  },
  {
   "cell_type": "code",
   "execution_count": 1,
   "metadata": {
    "collapsed": true
   },
   "outputs": [],
   "source": [
    "# Download HCP 820 dense connectome:\n",
    "# HCP_S900_820_rfMRI_MSMAll_groupPCA_d4500ROW_zcorr.dconn.nii"
   ]
  },
  {
   "cell_type": "code",
   "execution_count": null,
   "metadata": {
    "collapsed": true
   },
   "outputs": [],
   "source": [
    "import numpy as np\n",
    "import nibabel as nib # git clone --branch enh/cifti2 https://github.com/satra/nibabel.git\n",
    "from sklearn.metrics import pairwise_distances\n",
    "\n",
    "# Load data and Fisher's z-to-r transform\n",
    "dcon = np.tanh(nib.load('HCP_S900_820_rfMRI_MSMAll_groupPCA_d4500ROW_zcorr.dconn.nii').data)\n",
    "\n",
    "# Get number of nodes\n",
    "N = dcon.shape[0]\n",
    "\n",
    "# Generate percentile thresholds for 90th percentile\n",
    "perc = np.array([np.percentile(x, 90) for x in dcon])\n",
    "\n",
    "# Threshold each row of the matrix by setting values below 90th percentile to 0\n",
    "for i in range(dcon.shape[0]):\n",
    "  print \"Row %d\" % i\n",
    "  dcon[i, dcon[i,:] < perc[i]] = 0    "
   ]
  },
  {
   "cell_type": "code",
   "execution_count": null,
   "metadata": {
    "collapsed": true
   },
   "outputs": [],
   "source": [
    "# Check for minimum value\n",
    "print \"Minimum value is %f\" % dcon.min()\n",
    "\n",
    "# The negative values are very small, but we need to know how many nodes have negative values\n",
    "# Count negative values per row\n",
    "neg_values = np.array([sum(dcon[i,:] < 0) for i in range(N)])\n",
    "print \"Negative values occur in %d rows\" % sum(neg_values > 0)\n",
    "\n",
    "# Since there are only 23 vertices with total of 5000 very small negative values, we set these to zero\n",
    "dcon[dcon < 0] = 0"
   ]
  },
  {
   "cell_type": "code",
   "execution_count": null,
   "metadata": {
    "collapsed": true
   },
   "outputs": [],
   "source": [
    "# Now we are dealing with sparse vectors. Cosine similarity is used as affinity metric\n",
    "aff = 1 - pairwise_distances(dcon, metric = 'cosine')"
   ]
  },
  {
   "cell_type": "code",
   "execution_count": null,
   "metadata": {
    "collapsed": true
   },
   "outputs": [],
   "source": [
    "# Save affinity matrix\n",
    "np.save('gradient_data/conn_matrices/cosine_affinity.npy', aff)"
   ]
  }
 ],
 "metadata": {
  "kernelspec": {
   "display_name": "Python 2",
   "language": "python",
   "name": "python2"
  },
  "language_info": {
   "codemirror_mode": {
    "name": "ipython",
    "version": 2
   },
   "file_extension": ".py",
   "mimetype": "text/x-python",
   "name": "python",
   "nbconvert_exporter": "python",
   "pygments_lexer": "ipython2",
   "version": "2.7.14"
  },
  "nbTranslate": {
   "displayLangs": [
    "*"
   ],
   "hotkey": "alt-t",
   "langInMainMenu": true,
   "sourceLang": "en",
   "targetLang": "fr",
   "useGoogleTranslate": true
  },
  "toc": {
   "nav_menu": {},
   "number_sections": true,
   "sideBar": false,
   "skip_h1_title": false,
   "toc_cell": false,
   "toc_position": {},
   "toc_section_display": "block",
   "toc_window_display": false
  }
 },
 "nbformat": 4,
 "nbformat_minor": 1
}
