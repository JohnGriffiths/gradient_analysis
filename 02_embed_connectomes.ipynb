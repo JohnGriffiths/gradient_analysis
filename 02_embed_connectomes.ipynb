{
 "cells": [
  {
   "cell_type": "markdown",
   "metadata": {},
   "source": [
    "# Human connectivity embedding"
   ]
  },
  {
   "cell_type": "code",
   "execution_count": 2,
   "metadata": {
    "collapsed": true
   },
   "outputs": [],
   "source": [
    "# Load affinitity matrix\n",
    "aff = np.load('gradient_data/conn_matrices/cosine_affinity.npy')"
   ]
  },
  {
   "cell_type": "code",
   "execution_count": null,
   "metadata": {
    "collapsed": true
   },
   "outputs": [],
   "source": [
    "import sys\n",
    "sys.path.append(\"../topography/utils_py/mapalign\")\n",
    "from mapalign import embed\n",
    "\n",
    "emb, res = embed.compute_diffusion_map(aff, alpha = 0.5)"
   ]
  },
  {
   "cell_type": "code",
   "execution_count": null,
   "metadata": {
    "collapsed": true
   },
   "outputs": [],
   "source": [
    "# Save results\n",
    "np.save('gradient_data/embedded/embedding_dense_emb.npy', emb)\n",
    "np.save('gradient_data/embedded/embedding_dense_res.npy', res)"
   ]
  },
  {
   "cell_type": "code",
   "execution_count": 1,
   "metadata": {},
   "outputs": [
    {
     "data": {
      "text/plain": [
       "91282"
      ]
     },
     "execution_count": 1,
     "metadata": {},
     "output_type": "execute_result"
    }
   ],
   "source": [
    "import numpy as np\n",
    "res = np.load('gradient_data/embedded/embedding_dense_res.npy').item()\n",
    "a = [res['vectors'][:,i]/ res['vectors'][:,0] for i in range(302)]\n",
    "emb = np.array(a)[1:,:].T\n",
    "len(emb)"
   ]
  },
  {
   "cell_type": "markdown",
   "metadata": {},
   "source": [
    "## Export to cifti space"
   ]
  },
  {
   "cell_type": "code",
   "execution_count": 2,
   "metadata": {},
   "outputs": [],
   "source": [
    "import nibabel as nib\n",
    "import numpy as np"
   ]
  },
  {
   "cell_type": "code",
   "execution_count": 3,
   "metadata": {},
   "outputs": [
    {
     "name": "stderr",
     "output_type": "stream",
     "text": [
      "pixdim[1,2,3] should be non-zero; setting 0 dims to 1\n",
      "pixdim[1,2,3] should be non-zero; setting 0 dims to 1\n"
     ]
    }
   ],
   "source": [
    "res = nib.load('gradient_data/templates/hcp.tmp.lh.dscalar.nii').data\n",
    "cortL = np.squeeze(np.array(np.where(res != 0)[0], dtype=np.int32))\n",
    "res = nib.load('gradient_data/templates/hcp.tmp.rh.dscalar.nii').data\n",
    "cortR = np.squeeze(np.array(np.where(res != 0)[0], dtype=np.int32))\n",
    "cortLen = len(cortL) + len(cortR)\n",
    "del res\n",
    "# save out cortR and cortL in gradient_data/templates/\n"
   ]
  },
  {
   "cell_type": "code",
   "execution_count": 4,
   "metadata": {},
   "outputs": [],
   "source": [
    "emb = np.load('gradient_data/embedded/embedding_dense_emb.npy')"
   ]
  },
  {
   "cell_type": "code",
   "execution_count": 5,
   "metadata": {},
   "outputs": [
    {
     "name": "stderr",
     "output_type": "stream",
     "text": [
      "pixdim[1,2,3] should be non-zero; setting 0 dims to 1\n",
      "pixdim[1,2,3] should be non-zero; setting 0 dims to 1\n"
     ]
    }
   ],
   "source": [
    "tmp = nib.nifti2.load('gradient_data/templates/100307_tfMRI_MOTOR_level2_hp200_s2.dscalar.nii')\n",
    "tmp_cifti = nib.cifti.load('gradient_data/templates/100307_tfMRI_MOTOR_level2_hp200_s2.dscalar.nii')\n",
    "data = tmp_cifti.data * 0\n",
    "data[0:10,:len(emb)] = np.reshape(emb.T, [1, 1, 1, 1] + list(emb.T.shape))\n",
    "tmp2 = nib.nifti2.Nifti2Image(data, tmp.get_affine())\n",
    "tmp4 = nib.nifti2.create_cifti_image(tmp2, tmp_cifti.header.to_xml(), np.array(3006, dtype=np.int32))\n",
    "tmp4.to_filename('gradient_data/embedded/ciftis/hcp.embed.dscalar.nii')"
   ]
  },
  {
   "cell_type": "markdown",
   "metadata": {},
   "source": [
    "# Macaque connectivity embedding"
   ]
  },
  {
   "cell_type": "code",
   "execution_count": 6,
   "metadata": {
    "collapsed": true
   },
   "outputs": [],
   "source": [
    "import sys\n",
    "sys.path.append(\"../topography/utils_py/mapalign\")\n",
    "from mapalign import embed\n",
    "    \n",
    "def embed_macaque(mat_name):\n",
    "    \n",
    "    aff = np.load('gradient_data/conn_matrices/macaque_%s_conn.npy' % mat_name)\n",
    "    print np.shape(aff)\n",
    "    emb, res = embed.compute_diffusion_map(aff, alpha = 0.5)\n",
    "    np.save('gradient_data/conn_matrices/macaque_%s_emb.npy' % mat_name, emb)\n",
    "    np.save('gradient_data/conn_matrices/macaque_%s_res.npy' % mat_name, res)"
   ]
  },
  {
   "cell_type": "code",
   "execution_count": 7,
   "metadata": {},
   "outputs": [
    {
     "name": "stdout",
     "output_type": "stream",
     "text": [
      "(25, 25)\n"
     ]
    }
   ],
   "source": [
    "embed_macaque('bb47')"
   ]
  },
  {
   "cell_type": "code",
   "execution_count": null,
   "metadata": {
    "collapsed": true
   },
   "outputs": [],
   "source": []
  }
 ],
 "metadata": {
  "kernelspec": {
   "display_name": "Python 2",
   "language": "python",
   "name": "python2"
  },
  "language_info": {
   "codemirror_mode": {
    "name": "ipython",
    "version": 2
   },
   "file_extension": ".py",
   "mimetype": "text/x-python",
   "name": "python",
   "nbconvert_exporter": "python",
   "pygments_lexer": "ipython2",
   "version": "2.7.14"
  },
  "nbTranslate": {
   "displayLangs": [
    "*"
   ],
   "hotkey": "alt-t",
   "langInMainMenu": true,
   "sourceLang": "en",
   "targetLang": "fr",
   "useGoogleTranslate": true
  },
  "toc": {
   "nav_menu": {},
   "number_sections": true,
   "sideBar": false,
   "skip_h1_title": false,
   "toc_cell": false,
   "toc_position": {},
   "toc_section_display": "block",
   "toc_window_display": false
  }
 },
 "nbformat": 4,
 "nbformat_minor": 1
}
